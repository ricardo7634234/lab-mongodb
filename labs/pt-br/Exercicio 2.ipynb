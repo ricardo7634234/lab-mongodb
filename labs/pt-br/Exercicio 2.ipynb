{
 "cells": [
  {
   "cell_type": "markdown",
   "metadata": {},
   "source": [
    "# Exercício 2\n"
   ]
  },
  {
   "cell_type": "markdown",
   "metadata": {},
   "source": [
    "## Sobre a base de dados\n",
    "\n",
    "Neste laboratório você utilizará um dataset contendo informações sobre filmes e cinemas. \n",
    "\n",
    "**Collections:**\n",
    "* comments\n",
    "* movies\n",
    "* sessions\n",
    "* theaters\n",
    "* users\n",
    "\n",
    "\n",
    "\n",
    "\n",
    "Veja um exemplo de documento de um dos filmes da collection `movies` e entenda a estrutura/schema:\n",
    "\n",
    "```python\n",
    "{\n",
    "\t'_id': ObjectId('573a1390f29313caabcd4135'),\n",
    "\t'awards': {\n",
    "\t\t'nominations': 0,\n",
    "\t\t'text': '1 win.',\n",
    "\t\t'wins': 1\n",
    "\t},\n",
    "\t'cast': ['Charles Kayser', 'John Ott'],\n",
    "\t'countries': ['USA'],\n",
    "\t'directors': ['William K.L. Dickson'],\n",
    "\t'fullplot': 'A stationary camera looks at a large ...',\n",
    "\t'genres': ['Short'],\n",
    "\t'imdb': {\n",
    "\t\t'id': 5,\n",
    "\t\t'rating': 6.2,\n",
    "\t\t'votes': 1189\n",
    "\t},\n",
    "\t'lastupdated': '2015-08-26 00:03:50.133000000',\n",
    "\t'num_mflix_comments': 1,\n",
    "\t'plot': 'Three men hammer on an anvil and pass a bottle of beer around.',\n",
    "\t'rated': 'UNRATED',\n",
    "\t'released': datetime(1893, 5, 9, 0, 0),\n",
    "\t'runtime': 1,\n",
    "\t'title': 'Blacksmith Scene',\n",
    "\t'tomatoes': {\n",
    "\t\t'lastUpdated': datetime(2015, 6, 28, 18, 34, 9),\n",
    "\t\t'viewer': {\n",
    "\t\t\t'meter': 32,\n",
    "\t\t\t'numReviews': 184,\n",
    "\t\t\t'rating': 3.0\n",
    "\t\t},\n",
    "\t},\n",
    "\t'type': 'movie',\n",
    "\t'year': 1893,\n",
    "}\n",
    "```\n",
    "\n"
   ]
  },
  {
   "cell_type": "markdown",
   "metadata": {},
   "source": [
    "## Usando Python"
   ]
  },
  {
   "cell_type": "code",
   "execution_count": null,
   "metadata": {},
   "outputs": [],
   "source": [
    "from pymongo import MongoClient\n",
    "from pprintpp import pprint\n",
    "import warnings\n",
    "warnings.filterwarnings('ignore')\n",
    "mongoclient = MongoClient('localhost', 27017)\n",
    "db = mongoclient.mflix\n",
    "print(db)"
   ]
  },
  {
   "cell_type": "code",
   "execution_count": null,
   "metadata": {},
   "outputs": [],
   "source": [
    "db.movies.find({}).count()"
   ]
  },
  {
   "cell_type": "markdown",
   "metadata": {},
   "source": [
    "## Questões Exemplo"
   ]
  },
  {
   "cell_type": "markdown",
   "metadata": {},
   "source": [
    "### [Questão Exemplo A]  Mostre um documento qualquer da coleção movies"
   ]
  },
  {
   "cell_type": "code",
   "execution_count": null,
   "metadata": {},
   "outputs": [],
   "source": [
    "result = db.movies.find({}).limit(1)\n",
    "\n",
    "pprint( list(result) )"
   ]
  },
  {
   "cell_type": "markdown",
   "metadata": {},
   "source": [
    "### [Questão Exemplo B]  Encontre os diretores do filme \"Inglourious Basterds\""
   ]
  },
  {
   "cell_type": "code",
   "execution_count": null,
   "metadata": {},
   "outputs": [],
   "source": [
    "result = db.movies.find({\"title\": \"Inglourious Basterds\"}, {\"_id\":0,\"directors\": 1})\n",
    "\n",
    "list(result)"
   ]
  },
  {
   "cell_type": "markdown",
   "metadata": {},
   "source": [
    "### [Questão 1] Mostre o ano de lançamento de todos os filme que começam com \"One Night\""
   ]
  },
  {
   "cell_type": "code",
   "execution_count": null,
   "metadata": {},
   "outputs": [],
   "source": [
    "result = db.movies.find({'title':{'$regex':'^One Night'}},\n",
    "                        {'title':1,'year':1, '_id':0}\n",
    "                       )\n",
    "list(result)"
   ]
  },
  {
   "cell_type": "markdown",
   "metadata": {},
   "source": [
    "### [Questão 2] Quantos filmes o diretor Quentin Tarantino dirigiu?\n",
    "\n",
    "<!--\n",
    "query = { \n",
    "         \"directors\": \"Quentin Tarantino\"\n",
    "}\n",
    "\n",
    "projection = { \n",
    "               \"title\": 1,\n",
    "               \"_id\": 0   \n",
    "}\n",
    "\n",
    "\n",
    "result = db.movies.find(query, projection).distinct(\"title\")\n",
    "list(result)\n",
    "-->"
   ]
  },
  {
   "cell_type": "code",
   "execution_count": null,
   "metadata": {},
   "outputs": [],
   "source": []
  },
  {
   "cell_type": "markdown",
   "metadata": {},
   "source": [
    "### [Questão 3] Quantos filmes do gênero \"Drama\" o diretor Quentin Tarantino dirigiu entre 1990 e 2005?\n",
    "\n",
    "\n",
    "<!--\n",
    "query = { \n",
    "         \"directors\": \"Quentin Tarantino\",\n",
    "         \"genres\" : \"Drama\",\n",
    "           \"$and\" : [ \n",
    "                     { \"year\": {\"$gte\":1990}},\n",
    "                     { \"year\": {\"$gte\":1990}}\n",
    "                    ]\n",
    "}\n",
    "\n",
    "projection = { \n",
    "               \"title\": 1,\n",
    "               \"genres\":1, \n",
    "               \"year\": 1,\n",
    "               \"_id\": 0\n",
    "}\n",
    "\n",
    "\n",
    "result = db.movies.find(query, projection)\n",
    "list(result)\n",
    "-->"
   ]
  },
  {
   "cell_type": "code",
   "execution_count": null,
   "metadata": {},
   "outputs": [],
   "source": []
  },
  {
   "cell_type": "markdown",
   "metadata": {},
   "source": [
    "### [Questão 4] Qual filme do diretor Quentin Tarantino teve mais prêmios?\n",
    "\n",
    "Dica: Sort em Pymongo https://www.w3schools.com/python/python_mongodb_sort.asp\n",
    "\n",
    "<!-- \n",
    "query = { \n",
    "         \"directors\": \"Quentin Tarantino\"\n",
    "}\n",
    "\n",
    "projection = { \n",
    "               \"title\": 1,\n",
    "               \"awards.wins\":1,\n",
    "               \"_id\": 0   \n",
    "}\n",
    "\n",
    "\n",
    "result = db.movies.find(query, projection).sort(\"awards.wins\",-1)\n",
    "list(result)\n",
    "-->"
   ]
  },
  {
   "cell_type": "code",
   "execution_count": null,
   "metadata": {},
   "outputs": [],
   "source": []
  },
  {
   "cell_type": "markdown",
   "metadata": {},
   "source": [
    "### [Questão Extra] Quais documentos (filmes) possuem mesmo nome e quantas vezes cada um se repete?\n",
    "\n",
    "<!--\n",
    "\n",
    "-->"
   ]
  },
  {
   "cell_type": "code",
   "execution_count": null,
   "metadata": {},
   "outputs": [],
   "source": [
    "pipeline = [\n",
    "            {\"$group\": {\"_id\": \"$title\", \"count\": {\"$sum\": 1}}},\n",
    "            {\"$match\": {\"count\":{\"$gt\":1}}},\n",
    "            {\"$sort\":  {\"count\": -1}}\n",
    "]\n",
    "\n",
    "\n",
    "result = db.movies.aggregate(pipeline)\n",
    "list(result)"
   ]
  },
  {
   "cell_type": "markdown",
   "metadata": {},
   "source": [
    "### [Questão Extra] Quantos filmes cada diretor participou da direção? (ignore filmes repetidos)"
   ]
  },
  {
   "cell_type": "code",
   "execution_count": null,
   "metadata": {},
   "outputs": [],
   "source": [
    "pipeline = [\n",
    "            {\"$unwind\": \"$directors\"},\n",
    "            {\"$group\": {\"_id\": \"$directors\", \"count\": {\"$sum\": 1}}},\n",
    "            {\"$sort\":  {\"count\": -1}}  \n",
    "]\n",
    "\n",
    "result = db.movies.aggregate(pipeline)\n",
    "list(result)"
   ]
  },
  {
   "cell_type": "markdown",
   "metadata": {},
   "source": [
    "### [Questão Extra] Qual a somatória de prêmios recebidos pelos filmes para cada diretor? (ignore filmes repetidos)"
   ]
  },
  {
   "cell_type": "code",
   "execution_count": null,
   "metadata": {},
   "outputs": [],
   "source": [
    "pipeline = [\n",
    "            {\"$unwind\": \"$directors\"},\n",
    "            {\"$group\": {\"_id\": \"$directors\", \"count\": {\"$sum\": \"$awards.wins\"}}},\n",
    "            {\"$sort\":  {\"count\": -1}}\n",
    "    \n",
    "]\n",
    "\n",
    "\n",
    "result = db.movies.aggregate(pipeline)\n",
    "list(result)"
   ]
  }
 ],
 "metadata": {
  "kernelspec": {
   "display_name": "Python 3",
   "language": "python",
   "name": "python3"
  },
  "language_info": {
   "codemirror_mode": {
    "name": "ipython",
    "version": 3
   },
   "file_extension": ".py",
   "mimetype": "text/x-python",
   "name": "python",
   "nbconvert_exporter": "python",
   "pygments_lexer": "ipython3",
   "version": "3.7.6"
  }
 },
 "nbformat": 4,
 "nbformat_minor": 4
}
