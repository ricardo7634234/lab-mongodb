{
 "cells": [
  {
   "cell_type": "markdown",
   "metadata": {},
   "source": [
    "# Interagindo com o Mongo Shell"
   ]
  },
  {
   "cell_type": "markdown",
   "metadata": {},
   "source": [
    "## Opção 1 - Diretamente no terminal\n"
   ]
  },
  {
   "cell_type": "markdown",
   "metadata": {
    "toc-hr-collapsed": true,
    "toc-nb-collapsed": true
   },
   "source": [
    "### Acessando o Mongo Shell\n",
    "Abra um terminal e digite o seguinte comando para acessar a interface do client:\n",
    "\n",
    "```\n",
    "mongosh\n",
    "\n",
    "```"
   ]
  },
  {
   "cell_type": "markdown",
   "metadata": {
    "toc-hr-collapsed": true,
    "toc-nb-collapsed": true
   },
   "source": [
    "### Listando databases:\n",
    "\n",
    "```sql\n",
    "show dbs\n",
    "\n",
    "```"
   ]
  },
  {
   "cell_type": "markdown",
   "metadata": {
    "toc-hr-collapsed": true,
    "toc-nb-collapsed": true
   },
   "source": [
    "### \"Criando\" um database:\n",
    "\n",
    "O MongoDB não fornece comandos para criar um banco de dados. Você pode usar a instrução `use <nome do banco de dados>` para selecionar um banco de dados no shell do mongo. Use o seguinte exemplo:\n",
    "\n",
    "```sql\n",
    "use meu_primeiro_db\n",
    "\n",
    "```\n",
    "\n",
    "Exibir o banco de dados atualmente em uso:\n",
    "\n",
    "```sql\n",
    "db\n",
    "\n",
    "```"
   ]
  },
  {
   "cell_type": "markdown",
   "metadata": {
    "toc-hr-collapsed": true
   },
   "source": [
    "\n",
    "\n",
    "### Listando collections\n",
    "\n",
    "Listando collections:\n",
    "\n",
    "```sql\n",
    "show collections\n",
    "```\n"
   ]
  },
  {
   "cell_type": "markdown",
   "metadata": {
    "toc-hr-collapsed": true
   },
   "source": [
    "\n",
    "\n",
    "### Criando collections\n",
    "\n",
    "O MongoDB armazena documentos em coleções. As coleções são análogas às tabelas em bancos de dados relacionais como o MySQL. Geralmente, você não precisa criar uma coleção, o MongoDB faz isso automaticamente durante a inserção do primeiro documento. Para esclarecimento, criaremos explicitamente uma coleção.\n",
    "\n",
    "#### Criando uma coleção explicitamente:\n",
    "\n",
    "```sql\n",
    "db.createCollection(\"myfirstcollection\")\n",
    "```\n",
    "\n",
    "Listando collections:\n",
    "\n",
    "```sql\n",
    "show collections\n",
    "```\n",
    "\n",
    "Opções durante a criação de uma collection:\n",
    "```javascript\n",
    "db.createCollection(<name>, { capped: <boolean>,\n",
    "                              autoIndexId: <boolean>,\n",
    "                              size: <number>,\n",
    "                              max: <number>,\n",
    "                              storageEngine: <document>,\n",
    "                              validator: <document>,\n",
    "                              validationLevel: <string>,\n",
    "                              validationAction: <string>,\n",
    "                              indexOptionDefaults: <document>,\n",
    "                              viewOn: <string>,\n",
    "                              pipeline: <pipeline>,\n",
    "                              collation: <document> } )\n",
    "\n",
    "```\n",
    "\n",
    "\n",
    "\n",
    "#### Criando uma coleção implicitamente:\n",
    "\n",
    "Listando collections:\n",
    "\n",
    "```sql\n",
    "show collections\n",
    "```\n",
    "\n",
    "```sql\n",
    "db.mysecondcollection.insert({ \"nome\" : \"John\" })\n",
    "\n",
    "```\n",
    "\n",
    "Listando collections:\n",
    "\n",
    "```sql\n",
    "show collections\n",
    "```\n"
   ]
  },
  {
   "cell_type": "markdown",
   "metadata": {
    "toc-hr-collapsed": true,
    "toc-nb-collapsed": true
   },
   "source": [
    "### Renomeando collections\n",
    "\n",
    "\n",
    "\n",
    "```sql\n",
    "db.myfirstcollection.renameCollection(\"renamedcollection\")\n",
    "```\n",
    "\n",
    "Listando collections:\n",
    "\n",
    "```sql\n",
    "show collections\n",
    "```\n"
   ]
  },
  {
   "cell_type": "markdown",
   "metadata": {
    "toc-hr-collapsed": true,
    "toc-nb-collapsed": true
   },
   "source": [
    "### Fazendo dropping de uma collection\n",
    "\n",
    "\n",
    "Listando collections:\n",
    "\n",
    "```sql\n",
    "show collections\n",
    "```\n",
    "\n",
    "\n",
    "Dropping de uma collection:\n",
    "\n",
    "```sql\n",
    "db.getCollection(\"renamedcollection\").drop();\n",
    "```\n",
    "\n",
    "Listando collections:\n",
    "\n",
    "```sql\n",
    "show collections\n",
    "```\n"
   ]
  },
  {
   "cell_type": "markdown",
   "metadata": {},
   "source": [
    "## Opção 2 - Enviando comandos para o Mongo Shell dentro de uma célula do Jupyter\n",
    "\n",
    "\n",
    "O caracter `!` dentro de uma célula do Jupyter significa que queremos executar um comando bash.\n",
    "\n",
    "Por exemplo, na célula de código abaixo estamos exibindo o path atual (`pwd`) e listando todos os arquivos na pasta corrente."
   ]
  },
  {
   "cell_type": "code",
   "execution_count": null,
   "metadata": {},
   "outputs": [],
   "source": [
    "! ls -lh"
   ]
  },
  {
   "cell_type": "markdown",
   "metadata": {},
   "source": [
    "### Usando Bash\n",
    "\n",
    "Lembre-se: O caracter `!` dentro de uma célula do Jupyter significa que queremos executar um comando bash.\n"
   ]
  },
  {
   "cell_type": "code",
   "execution_count": null,
   "metadata": {},
   "outputs": [],
   "source": [
    "! mongosh --quiet --eval \"db.mycollection.insert({'nome':'foo', 'sobrenome':'bar'});\" mydatabase"
   ]
  },
  {
   "cell_type": "code",
   "execution_count": null,
   "metadata": {},
   "outputs": [],
   "source": [
    "! mongosh --quiet --eval 'db.mycollection.find();' mydatabase"
   ]
  },
  {
   "cell_type": "code",
   "execution_count": null,
   "metadata": {},
   "outputs": [],
   "source": [
    "! mongosh --quiet --eval 'db.mycollection.find().pretty();' mydatabase"
   ]
  },
  {
   "cell_type": "markdown",
   "metadata": {},
   "source": [
    "### Misturando Python e Bash"
   ]
  },
  {
   "cell_type": "code",
   "execution_count": null,
   "metadata": {},
   "outputs": [],
   "source": [
    "import json"
   ]
  },
  {
   "cell_type": "code",
   "execution_count": null,
   "metadata": {},
   "outputs": [],
   "source": [
    "documento1 = {\n",
    "    \"nome\":\"John\",\n",
    "    \"sobrenome\":\"Snow\",\n",
    "    \"status\":\"know nothing\"\n",
    "}\n",
    "\n",
    "print(documento1)"
   ]
  },
  {
   "cell_type": "code",
   "execution_count": null,
   "metadata": {},
   "outputs": [],
   "source": [
    "documento1 = {\n",
    "    \"nome\":\"John\",\n",
    "    \"sobrenome\":\"Snow\",\n",
    "    \"status\":\"know nothing\"\n",
    "}\n",
    "\n",
    "! mongosh --quiet --eval \"db.mycollection.insert({documento1});\" mydatabase"
   ]
  },
  {
   "cell_type": "code",
   "execution_count": null,
   "metadata": {},
   "outputs": [],
   "source": [
    "! mongosh --quiet --eval \"db.mycollection.find().pretty();\" mydatabase"
   ]
  },
  {
   "cell_type": "code",
   "execution_count": null,
   "metadata": {},
   "outputs": [],
   "source": [
    "documento2 = {\n",
    "    \"nome\":\"Tyrion\",\n",
    "    \"sobrenome\":\"Lannister\"\n",
    "}\n",
    "\n",
    "! mongosh --quiet --eval \"db.mycollection.insert({documento2});\" mydatabase"
   ]
  },
  {
   "cell_type": "code",
   "execution_count": null,
   "metadata": {},
   "outputs": [],
   "source": [
    "documento_busca = {\n",
    "    \"sobrenome\":\"Lannister\"\n",
    "}\n",
    "\n",
    "\n",
    "! mongosh --quiet --eval \"db.mycollection.find({documento_busca}).pretty();\" mydatabase"
   ]
  },
  {
   "cell_type": "code",
   "execution_count": null,
   "metadata": {},
   "outputs": [],
   "source": [
    "documento1 = {\n",
    "    \"nome\":\"Laura\",\n",
    "    \"sobrenome\":\"Lero\"\n",
    "}\n",
    "\n",
    "documento2 = {\n",
    "    \"nome\":\"Asdrubal\",\n",
    "    \"sobrenome\":\"Setubal\"\n",
    "}\n",
    "\n",
    "meu_array = [documento1, documento2]\n",
    "\n",
    "! mongosh --quiet --eval \"db.mycollection.insert({meu_array});\" mydatabase"
   ]
  },
  {
   "cell_type": "code",
   "execution_count": null,
   "metadata": {},
   "outputs": [],
   "source": [
    "documento_busca = {\n",
    "    \n",
    "}\n",
    "\n",
    "! mongosh --quiet --eval \"db.mycollection.find({documento_busca}).pretty();\" mydatabase"
   ]
  },
  {
   "cell_type": "code",
   "execution_count": null,
   "metadata": {},
   "outputs": [],
   "source": [
    "documento_busca = {\n",
    "}\n",
    "\n",
    "projecao = {\n",
    "    \"_id\":0,\n",
    "    \"nome\": 1,\n",
    "    \"sobrenome\" : 1,\n",
    "    \"status\": 1\n",
    "}\n",
    "\n",
    "! mongosh --quiet --eval \"db.mycollection.find({documento_busca}, {projecao});\" mydatabase"
   ]
  },
  {
   "cell_type": "code",
   "execution_count": null,
   "metadata": {},
   "outputs": [],
   "source": [
    "documento_busca = {\n",
    "    \"nome\" : \"John\"\n",
    "}\n",
    "\n",
    "projecao = {\n",
    "    \"_id\":0,\n",
    "    \"sobrenome\" : 1,\n",
    "    \"status\": 1\n",
    "}\n",
    "\n",
    "! mongosh --quiet --eval \"db.mycollection.find({documento_busca}, {projecao});\" mydatabase"
   ]
  },
  {
   "cell_type": "code",
   "execution_count": null,
   "metadata": {},
   "outputs": [],
   "source": [
    "# Use este método quando tiver caracteres como o $\n",
    "\n",
    "documento_busca = {\n",
    "    \"nome\" : {\"$in\": [\"John\",\"Laura\"]}\n",
    "}\n",
    "\n",
    "projecao = {\n",
    "    \"_id\":0,\n",
    "    \"nome\":1,\n",
    "    \"sobrenome\" : 1,\n",
    "    \"status\": 1\n",
    "}\n",
    "\n",
    "# convertendo para string. Use este método quando tiver caracteres como o $\n",
    "documento_busca = json.dumps(documento_busca)\n",
    "\n",
    "! mongosh --quiet --eval 'db.mycollection.find({documento_busca}, {projecao});' mydatabase"
   ]
  },
  {
   "cell_type": "markdown",
   "metadata": {},
   "source": [
    "### Usando Driver Python"
   ]
  },
  {
   "cell_type": "markdown",
   "metadata": {},
   "source": [
    "Importando dependências e conectando ao BD"
   ]
  },
  {
   "cell_type": "code",
   "execution_count": null,
   "metadata": {},
   "outputs": [],
   "source": [
    "from pymongo import MongoClient\n",
    "\n",
    "mongoclient = MongoClient('localhost', 27017)\n",
    "db = mongoclient.mydatabase"
   ]
  },
  {
   "cell_type": "markdown",
   "metadata": {},
   "source": [
    "Status da conexão:"
   ]
  },
  {
   "cell_type": "code",
   "execution_count": null,
   "metadata": {},
   "outputs": [],
   "source": [
    "print(db)"
   ]
  },
  {
   "cell_type": "code",
   "execution_count": null,
   "metadata": {},
   "outputs": [],
   "source": [
    "# Insere documento \n",
    "\n",
    "documento1 = {\n",
    "    \"nome\":\"Tiago\",\n",
    "    \"sobrenome\":\"Esmeralda\",\n",
    "    \"idade\":52\n",
    "}\n",
    "\n",
    "db.mycollection.insert_one(documento1).inserted_id"
   ]
  },
  {
   "cell_type": "code",
   "execution_count": null,
   "metadata": {},
   "outputs": [],
   "source": [
    "result = db.mycollection.find()\n",
    "list(result)"
   ]
  },
  {
   "cell_type": "code",
   "execution_count": null,
   "metadata": {},
   "outputs": [],
   "source": [
    "result = db.mycollection.find({\n",
    "                                \"nome\": {\"$in\":[\"Tiago\",\"Laura\"]}\n",
    "                             })\n",
    "list(result)"
   ]
  },
  {
   "cell_type": "code",
   "execution_count": null,
   "metadata": {},
   "outputs": [],
   "source": [
    "result = db.mycollection.find({\n",
    "                                \"nome\": {\"$in\":[\"Tiago\",\"Laura\"]}\n",
    "                              },\n",
    "                              {\n",
    "                                  \"_id\":0,\n",
    "                                  \"nome\": 1,\n",
    "                                  \"sobrenome\":1\n",
    "                              }\n",
    ")\n",
    "list(result)"
   ]
  },
  {
   "cell_type": "markdown",
   "metadata": {},
   "source": [
    "### Outros Drivers\n",
    "\n",
    "Existem diversos outros drivers para MongoDB. Você pode encontrar a lista oficial, mantida pela MongoDB inc. aqui: https://docs.mongodb.com/drivers/\n",
    "\n",
    "**Lista de Drivers:**\n",
    "\n",
    "<img src=\"../resources/images/drivers.png\" width=\"50%\">\n",
    "\n",
    "\n",
    "\n",
    "#### Exemplo Java\n",
    "\n",
    "Um exemplo de como usar Java para conectar ao MongoDB e inserir um objeto:\n",
    "\n",
    "```java\n",
    "\n",
    "import com.mongodb.MongoClient;\n",
    "import com.mongodb.MongoClientURI;\n",
    "import com.mongodb.ServerAddress;\n",
    "\n",
    "import com.mongodb.client.MongoDatabase;\n",
    "import com.mongodb.client.MongoCollection;\n",
    "\n",
    "import org.bson.Document;\n",
    "import java.util.Arrays;\n",
    "import com.mongodb.Block;\n",
    "\n",
    "import com.mongodb.client.MongoCursor;\n",
    "import static com.mongodb.client.model.Filters.*;\n",
    "import com.mongodb.client.result.DeleteResult;\n",
    "import static com.mongodb.client.model.Updates.*;\n",
    "import com.mongodb.client.result.UpdateResult;\n",
    "import java.util.ArrayList;\n",
    "import java.util.List;\n",
    "\n",
    "//Criando um array\n",
    "List<Integer> books = Arrays.asList(27464, 747854);\n",
    "\n",
    "//Criando um objeto JSON\n",
    "Document person = new Document(\"_id\", \"jo\")\n",
    "                            .append(\"name\", \"Jo Bloggs\")\n",
    "                            .append(\"address\", new BasicDBObject(\"street\", \"123 Fake St\")\n",
    "                                                         .append(\"city\", \"Faketon\")\n",
    "                                                         .append(\"state\", \"MA\")\n",
    "                                                         .append(\"zip\", 12345))\n",
    "                            .append(\"books\", books);\n",
    "\n",
    "MongoClient mongoClient = new MongoClient();\n",
    "DB database = mongoClient.getDB(\"Exemplo\");\n",
    "DBCollection collection = database.getCollection(\"people\");\n",
    "<p>collection.insert(person);\n",
    "\n",
    "\n",
    "```\n",
    "\n",
    "Mais detalhes em: https://mongodb.github.io/mongo-java-driver/4.1/driver/getting-started/quick-start/\n"
   ]
  }
 ],
 "metadata": {
  "kernelspec": {
   "display_name": "Python 3 (ipykernel)",
   "language": "python",
   "name": "python3"
  },
  "language_info": {
   "codemirror_mode": {
    "name": "ipython",
    "version": 3
   },
   "file_extension": ".py",
   "mimetype": "text/x-python",
   "name": "python",
   "nbconvert_exporter": "python",
   "pygments_lexer": "ipython3",
   "version": "3.10.14"
  },
  "toc-autonumbering": true,
  "toc-showmarkdowntxt": true
 },
 "nbformat": 4,
 "nbformat_minor": 4
}
